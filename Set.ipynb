{
  "nbformat": 4,
  "nbformat_minor": 0,
  "metadata": {
    "colab": {
      "provenance": [],
      "authorship_tag": "ABX9TyNHkmOhMWufw9fn6uaF3oDf",
      "include_colab_link": true
    },
    "kernelspec": {
      "name": "python3",
      "display_name": "Python 3"
    },
    "language_info": {
      "name": "python"
    }
  },
  "cells": [
    {
      "cell_type": "markdown",
      "metadata": {
        "id": "view-in-github",
        "colab_type": "text"
      },
      "source": [
        "<a href=\"https://colab.research.google.com/github/Abisheak-Giltz/Python-Learning/blob/main/Set.ipynb\" target=\"_parent\"><img src=\"https://colab.research.google.com/assets/colab-badge.svg\" alt=\"Open In Colab\"/></a>"
      ]
    },
    {
      "cell_type": "code",
      "execution_count": 6,
      "metadata": {
        "colab": {
          "base_uri": "https://localhost:8080/"
        },
        "id": "PzCORQreFNaO",
        "outputId": "5dd4ce01-12eb-4f74-a448-0f0f578186c6"
      },
      "outputs": [
        {
          "output_type": "stream",
          "name": "stdout",
          "text": [
            "{1, 2, 3, 4.5, (2+5j), 'String'}\n"
          ]
        }
      ],
      "source": [
        "myDefaultSet = {1, 2, 3, 4.5, \"String\", True, 2+5j}\n",
        "print(myDefaultSet) # Immutable value\n",
        "                    # Random Index\n",
        "                    # append, insert , extend ,{} functions wont work"
      ]
    },
    {
      "cell_type": "code",
      "source": [
        "myDefaultSet.add(\"Google Collab Sucks!\")\n",
        "myDefaultSet.add(False)\n",
        "print(myDefaultSet)"
      ],
      "metadata": {
        "colab": {
          "base_uri": "https://localhost:8080/"
        },
        "id": "EmsEHf9qFx_l",
        "outputId": "1301cf22-ec8e-4aea-940f-a14033ed7aad"
      },
      "execution_count": 9,
      "outputs": [
        {
          "output_type": "stream",
          "name": "stdout",
          "text": [
            "{False, 1, 2, 3, 4.5, (2+5j), 'Google Collab Sucks!', 'String'}\n"
          ]
        }
      ]
    },
    {
      "cell_type": "code",
      "source": [
        "myDefaultSet.pop()"
      ],
      "metadata": {
        "colab": {
          "base_uri": "https://localhost:8080/"
        },
        "id": "QkxrgmLhGSxb",
        "outputId": "ea4d6d16-26b0-4833-94f9-9f8d7f1ed851"
      },
      "execution_count": 12,
      "outputs": [
        {
          "output_type": "execute_result",
          "data": {
            "text/plain": [
              "2"
            ]
          },
          "metadata": {},
          "execution_count": 12
        }
      ]
    },
    {
      "cell_type": "code",
      "source": [
        "print(myDefaultSet)"
      ],
      "metadata": {
        "colab": {
          "base_uri": "https://localhost:8080/"
        },
        "id": "uW1k95slGgfq",
        "outputId": "3a210c60-3ab5-46d2-ea0d-53babe3bee05"
      },
      "execution_count": 13,
      "outputs": [
        {
          "output_type": "stream",
          "name": "stdout",
          "text": [
            "{3, 4.5, (2+5j), 'Google Collab Sucks!', 'String'}\n"
          ]
        }
      ]
    },
    {
      "cell_type": "code",
      "source": [],
      "metadata": {
        "id": "cZIfUklZGpCz"
      },
      "execution_count": 20,
      "outputs": []
    }
  ]
}